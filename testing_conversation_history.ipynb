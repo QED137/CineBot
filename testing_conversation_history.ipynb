{
 "cells": [
  {
   "cell_type": "code",
   "execution_count": 2,
   "id": "26656a89-aa9a-4cb0-ba75-a8407c487cb0",
   "metadata": {},
   "outputs": [],
   "source": [
    "import os \n",
    "from config import settings\n",
    "from langchain_openai import OpenAI\n",
    "from langchain.prompts import PromptTemplate"
   ]
  },
  {
   "cell_type": "code",
   "execution_count": 3,
   "id": "5b2136e4-f72b-4ba4-8f45-7d83d8b3cf3e",
   "metadata": {},
   "outputs": [],
   "source": [
    "\n",
    "NEO4J_URI = settings.NEO4J_URI\n",
    "NEO4J_USERNAME = settings.NEO4J_USERNAME\n",
    "NEO4J_PASSWORD = settings.NEO4J_PASSWORD\n",
    "OPENAI_API_KEY = settings.OPENAI_API_KEY\n",
    "OPENAI_ENDPOINT = settings.OPENAI_ENDPOINT or \"https://api.openai.com/v1\"\n",
    "TMDB_API_KEY = settings.TMDB_API_KEY\n",
    "OMDB_API = settings.OMDB_API"
   ]
  },
  {
   "cell_type": "code",
   "execution_count": 4,
   "id": "a76c0395-7e3c-42b3-9edd-1da76ff04251",
   "metadata": {},
   "outputs": [
    {
     "name": "stdout",
     "output_type": "stream",
     "text": [
      "\n",
      "\n",
      "NEO4j is a graph database management system, developed by the company Neo4j, Inc. It is a highly scalable, transactional database designed for storing, querying, and manipulating highly connected data. Unlike traditional relational databases, which store data in tables and rows, NEO4j stores data in a graph with nodes, relationships, and properties. This structure allows for efficient and fast retrieval of complex data structures, making it well-suited for use cases such as social networks, recommendation engines, fraud detection, and knowledge graphs. It uses the Cypher query language, which is specifically designed for querying graph data. NEO4j is used by companies and organizations in various industries, including finance, healthcare, retail, and logistics, to gain insights from their highly connected data.\n"
     ]
    }
   ],
   "source": [
    "llm = OpenAI(openai_api_key=OPENAI_API_KEY)\n",
    "response= llm.invoke(\"What is NEO4j\")\n",
    "\n",
    "print(response)"
   ]
  }
 ],
 "metadata": {
  "kernelspec": {
   "display_name": "Python 3 (ipykernel)",
   "language": "python",
   "name": "python3"
  },
  "language_info": {
   "codemirror_mode": {
    "name": "ipython",
    "version": 3
   },
   "file_extension": ".py",
   "mimetype": "text/x-python",
   "name": "python",
   "nbconvert_exporter": "python",
   "pygments_lexer": "ipython3",
   "version": "3.12.1"
  }
 },
 "nbformat": 4,
 "nbformat_minor": 5
}
